{
  "nbformat": 4,
  "nbformat_minor": 0,
  "metadata": {
    "colab": {
      "provenance": [],
      "authorship_tag": "ABX9TyPxLX5jvI7SHHFKB33QOt25",
      "include_colab_link": true
    },
    "kernelspec": {
      "name": "python3",
      "display_name": "Python 3"
    },
    "language_info": {
      "name": "python"
    }
  },
  "cells": [
    {
      "cell_type": "markdown",
      "metadata": {
        "id": "view-in-github",
        "colab_type": "text"
      },
      "source": [
        "<a href=\"https://colab.research.google.com/github/leeyeonjun85/csai/blob/main/leeyeonjun_intro.ipynb\" target=\"_parent\"><img src=\"https://colab.research.google.com/assets/colab-badge.svg\" alt=\"Open In Colab\"/></a>"
      ]
    },
    {
      "cell_type": "markdown",
      "source": [
        "### 예를 들어, 아래와 같은 질문이 있을 수 있습니다.  \n",
        "\n",
        "***\n",
        "\n",
        "당신의 스마트폰 브랜드는 무엇입니까?:\n",
        "- Heading 2번째 큰 글자 크기로 출력하세요\n",
        "\n",
        "## 아이폰12mini\n",
        "\n",
        "***\n",
        "\n",
        "### 질문의 답변을 달아주시고 요구사항에 맞게 내용을 수정해주시면 됩니다.\n",
        "\n",
        "> Heading 이라는 단어가 무엇인지 모르시겠나요? Markdown 사용법을 참고해보시기 바랍니다\n",
        "\n",
        "--- \n",
        "\n",
        "# 🔥 이제 질문에 대한 답을 작성해 볼까요?\n",
        "\n",
        "현재의 나를 세 단어로 표현하면:\n",
        "- 해당 질문을 더블클릭하면 수정하실 수 있습니다.\n",
        "- [Markdown] Heading 3번째 큰 글자 크기로 출력하세요\n",
        "\n",
        "### 도전, 몰입, \n"
      ],
      "metadata": {
        "id": "S8KF_lQoOLuy"
      }
    }
  ]
}